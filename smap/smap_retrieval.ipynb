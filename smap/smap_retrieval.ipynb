{
 "cells": [
  {
   "cell_type": "markdown",
   "metadata": {},
   "source": [
    "# Fetching SMAP data programatically\n",
    "\n",
    "See https://nsidc.org/support/how/how-do-i-programmatically-request-data-services"
   ]
  },
  {
   "cell_type": "markdown",
   "metadata": {},
   "source": [
    "### Step 1. Query capabilities\n",
    "\n",
    "\n",
    "`https://n5eil01u.ecs.nsidc.org/egi/capabilities/(SHORT_NAME).(VERSION).xml`\n",
    "\n",
    "This will return an xml file detailing the format, projection, and subsetting options, as well as the variable names contained within the data files\n"
   ]
  },
  {
   "cell_type": "code",
   "execution_count": 1,
   "metadata": {
    "collapsed": true
   },
   "outputs": [],
   "source": [
    "import urllib2\n",
    "import xml.etree.ElementTree as ET\n",
    "import xmltodict"
   ]
  },
  {
   "cell_type": "code",
   "execution_count": 33,
   "metadata": {
    "collapsed": true
   },
   "outputs": [],
   "source": [
    "url = 'https://n5eil01u.ecs.nsidc.org/egi/capabilities/SPL2SMP_E.001.xml'\n",
    "xmlfile = urllib2.urlopen(url)\n",
    "xmldata = xmlfile.read()\n",
    "xmlfile.close()"
   ]
  },
  {
   "cell_type": "code",
   "execution_count": 34,
   "metadata": {
    "collapsed": true
   },
   "outputs": [],
   "source": [
    "data = xmltodict.parse(xmldata)"
   ]
  },
  {
   "cell_type": "code",
   "execution_count": 35,
   "metadata": {
    "collapsed": true
   },
   "outputs": [],
   "source": [
    "root = ET.fromstring(xmldata)"
   ]
  },
  {
   "cell_type": "code",
   "execution_count": 95,
   "metadata": {},
   "outputs": [
    {
     "data": {
      "text/plain": [
       "'{http://eosdis.nasa.gov/esi/dataset}DataSets'"
      ]
     },
     "execution_count": 95,
     "metadata": {},
     "output_type": "execute_result"
    }
   ],
   "source": [
    "root.tag"
   ]
  },
  {
   "cell_type": "code",
   "execution_count": 37,
   "metadata": {},
   "outputs": [
    {
     "name": "stdout",
     "output_type": "stream",
     "text": [
      "DataSet {'dataCenter': 'NSIDC', 'orderPH': 'false', 'orderQA': 'true', 'orderHDF_MAP': 'false', 'versionId': '1', 'longName': 'SMAP Enhanced L2 Radiometer Half-Orbit 9 km EASE-Grid Soil Moisture', 'id': 'SMAP Enhanced L2 Radiometer Half-Orbit 9 km EASE-Grid Soil Moisture V001', 'shortName': 'SPL2SMP_E', 'orderBrowse': 'false'}\n"
     ]
    }
   ],
   "source": [
    "for child in root:\n",
    "    print child.tag, child.attrib"
   ]
  },
  {
   "cell_type": "markdown",
   "metadata": {},
   "source": [
    "See the reformatting options available (use the format value as opposed to the label, if different)"
   ]
  },
  {
   "cell_type": "code",
   "execution_count": 38,
   "metadata": {},
   "outputs": [
    {
     "data": {
      "text/plain": [
       "[{'label': 'No Reformatting', 'value': ''},\n",
       " {'label': 'HDF-EOS5', 'value': 'HDF-EOS5'},\n",
       " {'label': 'NetCDF4-CF', 'value': 'NetCDF4-CF'},\n",
       " {'label': 'ASCII', 'value': 'ASCII'},\n",
       " {'label': 'KML', 'value': 'KML'},\n",
       " {'label': 'GeoTIFF', 'value': 'GeoTIFF'},\n",
       " {'label': 'NetCDF-3', 'value': 'NetCDF-3'}]"
      ]
     },
     "execution_count": 38,
     "metadata": {},
     "output_type": "execute_result"
    }
   ],
   "source": [
    "[f.attrib for f in root.findall('.//Format')]"
   ]
  },
  {
   "cell_type": "code",
   "execution_count": 39,
   "metadata": {},
   "outputs": [
    {
     "data": {
      "text/plain": [
       "[{'compoundRule': 'false',\n",
       "  'label': 'Soil_Moisture_Retrieval_Data',\n",
       "  'value': 'Soil_Moisture_Retrieval_Data'},\n",
       " {'label': 'albedo', 'value': 'Soil_Moisture_Retrieval_Data:albedo'},\n",
       " {'label': 'boresight_incidence',\n",
       "  'value': 'Soil_Moisture_Retrieval_Data:boresight_incidence'},\n",
       " {'compoundRule': 'false',\n",
       "  'excludeFormat': 'HDF-EOS5,NetCDF4-CF',\n",
       "  'label': 'EASE_column_index',\n",
       "  'value': 'Soil_Moisture_Retrieval_Data:EASE_column_index'},\n",
       " {'compoundRule': 'false',\n",
       "  'excludeFormat': 'HDF-EOS5,NetCDF4-CF',\n",
       "  'label': 'EASE_row_index',\n",
       "  'value': 'Soil_Moisture_Retrieval_Data:EASE_row_index'},\n",
       " {'label': 'freeze_thaw_fraction',\n",
       "  'value': 'Soil_Moisture_Retrieval_Data:freeze_thaw_fraction'},\n",
       " {'label': 'latitude', 'value': 'Soil_Moisture_Retrieval_Data:latitude'},\n",
       " {'label': 'latitude_centroid',\n",
       "  'value': 'Soil_Moisture_Retrieval_Data:latitude_centroid'},\n",
       " {'label': 'longitude', 'value': 'Soil_Moisture_Retrieval_Data:longitude'},\n",
       " {'label': 'longitude_centroid',\n",
       "  'value': 'Soil_Moisture_Retrieval_Data:longitude_centroid'},\n",
       " {'label': 'radar_water_body_fraction',\n",
       "  'value': 'Soil_Moisture_Retrieval_Data:radar_water_body_fraction'},\n",
       " {'label': 'retrieval_qual_flag',\n",
       "  'value': 'Soil_Moisture_Retrieval_Data:retrieval_qual_flag'},\n",
       " {'label': 'retrieval_qual_flag_option1',\n",
       "  'value': 'Soil_Moisture_Retrieval_Data:retrieval_qual_flag_option1'},\n",
       " {'label': 'retrieval_qual_flag_option2',\n",
       "  'value': 'Soil_Moisture_Retrieval_Data:retrieval_qual_flag_option2'},\n",
       " {'label': 'retrieval_qual_flag_option3',\n",
       "  'value': 'Soil_Moisture_Retrieval_Data:retrieval_qual_flag_option3'},\n",
       " {'label': 'retrieval_qual_flag_option4',\n",
       "  'value': 'Soil_Moisture_Retrieval_Data:retrieval_qual_flag_option4'},\n",
       " {'label': 'retrieval_qual_flag_option5',\n",
       "  'value': 'Soil_Moisture_Retrieval_Data:retrieval_qual_flag_option5'},\n",
       " {'label': 'roughness_coefficient',\n",
       "  'value': 'Soil_Moisture_Retrieval_Data:roughness_coefficient'},\n",
       " {'label': 'soil_moisture',\n",
       "  'value': 'Soil_Moisture_Retrieval_Data:soil_moisture'},\n",
       " {'label': 'soil_moisture_error',\n",
       "  'value': 'Soil_Moisture_Retrieval_Data:soil_moisture_error'},\n",
       " {'label': 'soil_moisture_option1',\n",
       "  'value': 'Soil_Moisture_Retrieval_Data:soil_moisture_option1'},\n",
       " {'label': 'soil_moisture_option2',\n",
       "  'value': 'Soil_Moisture_Retrieval_Data:soil_moisture_option2'},\n",
       " {'label': 'soil_moisture_option3',\n",
       "  'value': 'Soil_Moisture_Retrieval_Data:soil_moisture_option3'},\n",
       " {'label': 'soil_moisture_option4',\n",
       "  'value': 'Soil_Moisture_Retrieval_Data:soil_moisture_option4'},\n",
       " {'label': 'soil_moisture_option5',\n",
       "  'value': 'Soil_Moisture_Retrieval_Data:soil_moisture_option5'},\n",
       " {'label': 'static_water_body_fraction',\n",
       "  'value': 'Soil_Moisture_Retrieval_Data:static_water_body_fraction'},\n",
       " {'label': 'surface_flag',\n",
       "  'value': 'Soil_Moisture_Retrieval_Data:surface_flag'},\n",
       " {'label': 'surface_temperature',\n",
       "  'value': 'Soil_Moisture_Retrieval_Data:surface_temperature'},\n",
       " {'label': 'tb_3_corrected',\n",
       "  'value': 'Soil_Moisture_Retrieval_Data:tb_3_corrected'},\n",
       " {'label': 'tb_4_corrected',\n",
       "  'value': 'Soil_Moisture_Retrieval_Data:tb_4_corrected'},\n",
       " {'label': 'tb_h_corrected',\n",
       "  'value': 'Soil_Moisture_Retrieval_Data:tb_h_corrected'},\n",
       " {'label': 'tb_qual_flag_3',\n",
       "  'value': 'Soil_Moisture_Retrieval_Data:tb_qual_flag_3'},\n",
       " {'label': 'tb_qual_flag_4',\n",
       "  'value': 'Soil_Moisture_Retrieval_Data:tb_qual_flag_4'},\n",
       " {'label': 'tb_qual_flag_h',\n",
       "  'value': 'Soil_Moisture_Retrieval_Data:tb_qual_flag_h'},\n",
       " {'label': 'tb_qual_flag_v',\n",
       "  'value': 'Soil_Moisture_Retrieval_Data:tb_qual_flag_v'},\n",
       " {'label': 'tb_time_seconds',\n",
       "  'value': 'Soil_Moisture_Retrieval_Data:tb_time_seconds'},\n",
       " {'compoundRule': 'false',\n",
       "  'excludeFormat': 'GeoTIFF,KML,NetCDF4-CF',\n",
       "  'excludeProjection': 'GEOGRAPHIC,NORTH POLAR STEREOGRAPHIC,SOUTH POLAR STEREOGRAPHIC,UTM NORTHERN HEMISPHERE,UTM SOUTHERN HEMISPHERE',\n",
       "  'label': 'tb_time_utc',\n",
       "  'value': 'Soil_Moisture_Retrieval_Data:tb_time_utc'},\n",
       " {'label': 'tb_v_corrected',\n",
       "  'value': 'Soil_Moisture_Retrieval_Data:tb_v_corrected'},\n",
       " {'label': 'vegetation_opacity',\n",
       "  'value': 'Soil_Moisture_Retrieval_Data:vegetation_opacity'},\n",
       " {'label': 'vegetation_opacity_option1',\n",
       "  'value': 'Soil_Moisture_Retrieval_Data:vegetation_opacity_option1'},\n",
       " {'label': 'vegetation_opacity_option2',\n",
       "  'value': 'Soil_Moisture_Retrieval_Data:vegetation_opacity_option2'},\n",
       " {'label': 'vegetation_opacity_option3',\n",
       "  'value': 'Soil_Moisture_Retrieval_Data:vegetation_opacity_option3'},\n",
       " {'label': 'vegetation_opacity_option4',\n",
       "  'value': 'Soil_Moisture_Retrieval_Data:vegetation_opacity_option4'},\n",
       " {'label': 'vegetation_opacity_option5',\n",
       "  'value': 'Soil_Moisture_Retrieval_Data:vegetation_opacity_option5'},\n",
       " {'label': 'vegetation_water_content',\n",
       "  'value': 'Soil_Moisture_Retrieval_Data:vegetation_water_content'}]"
      ]
     },
     "execution_count": 39,
     "metadata": {},
     "output_type": "execute_result"
    }
   ],
   "source": [
    "[f.attrib for f in root.findall('.//SubsetVariable')]"
   ]
  },
  {
   "cell_type": "markdown",
   "metadata": {},
   "source": [
    "### Step 2. Create token\n",
    "\n",
    "A token is needed in order to access data using your Earthdata Login credentials. The token is valid for **30 days**."
   ]
  },
  {
   "cell_type": "markdown",
   "metadata": {},
   "source": [
    "    curl -X POST --header \"Content-Type: application/xml\" -d \"<token><username>sample_username</username><password>sample-password</password><client_id>client_name_of_your_choosing</client_id><user_ip_address>your_origin_ip_address</user_ip_address> </token>\" https://cmr.earthdata.nasa.gov/legacy-services/rest/tokens\n",
    "\n",
    "You should receive the token ID in the response. The value in the ID tag is the token you will use in Step 3. For example:\n",
    "\n",
    "    <token>\n",
    "    <id>75E5CEBE-6BBB-2FB5-A613-0368A361D0B6</id>\n",
    "    <username>earthdata_login_user_name</username>\n",
    "    <client_id>NSIDC_client_id</client_id>\n",
    "    <user_ip_address>your_origin_ip_address</user_ip_address>\n",
    "    <provider>NSIDC_ECS</provider>\n",
    "    </token>"
   ]
  },
  {
   "cell_type": "code",
   "execution_count": 2,
   "metadata": {
    "collapsed": true
   },
   "outputs": [],
   "source": [
    "import sys\n",
    "sys.path.append('/Library/Frameworks/Python.framework/Versions/2.7/lib/python2.7/site-packages')\n",
    "import requests"
   ]
  },
  {
   "cell_type": "markdown",
   "metadata": {},
   "source": [
    "### Earthdata login"
   ]
  },
  {
   "cell_type": "code",
   "execution_count": 17,
   "metadata": {
    "collapsed": true
   },
   "outputs": [],
   "source": [
    "username = 'EARTHDATA-USERNAME'\n",
    "password = 'EARTHDATA-PASSWORD'\n",
    "client_id = 'NSIDC_client_id'"
   ]
  },
  {
   "cell_type": "markdown",
   "metadata": {},
   "source": [
    "Current IP address"
   ]
  },
  {
   "cell_type": "code",
   "execution_count": 4,
   "metadata": {},
   "outputs": [
    {
     "data": {
      "text/plain": [
       "'136.142.68.231'"
      ]
     },
     "execution_count": 4,
     "metadata": {},
     "output_type": "execute_result"
    }
   ],
   "source": [
    "import socket\n",
    "user_ip = [l for l in ([ip for ip in socket.gethostbyname_ex(socket.gethostname())[2] if not ip.startswith(\"127.\")][:1], [[(s.connect(('8.8.8.8', 53)), s.getsockname()[0], s.close()) for s in [socket.socket(socket.AF_INET, socket.SOCK_DGRAM)]][0][1]]) if l][0][0]\n",
    "user_ip"
   ]
  },
  {
   "cell_type": "code",
   "execution_count": 14,
   "metadata": {
    "collapsed": true
   },
   "outputs": [],
   "source": [
    "r = requests.post('https://api.echo.nasa.gov/echo-rest/tokens',\n",
    "                 headers={'content-type': 'application/xml'},\n",
    "                  data='<token><username>{0}</username><password>{1}</password><client_id>{2}</client_id>'\n",
    "                  '<user_ip_address>{3}</user_ip_address> </token>'.format(\n",
    "                      username, password, client_id, user_ip))"
   ]
  },
  {
   "cell_type": "code",
   "execution_count": null,
   "metadata": {},
   "outputs": [],
   "source": [
    "re_dict = xmltodict.parse(r.text)\n",
    "token = re_dict['token']['id']\n",
    "token"
   ]
  },
  {
   "cell_type": "markdown",
   "metadata": {},
   "source": [
    "### Step 3. Create API endpoint\n",
    "\n",
    "The programmatic access structure is as follows:\n",
    "\n",
    "    https://n5eil01u.ecs.nsidc.org/egi/request?search_kvp=search_kvp&service_kvp=service_kvp&token=token&email=email"
   ]
  },
  {
   "cell_type": "markdown",
   "metadata": {},
   "source": [
    "**`bounding_box`**\n",
    "\n",
    "Specifies a search filter to find files with a spatial extent that overlaps this bounding box, specified in decimal\n",
    "degrees of latitude and longitude in WSEN format:\n",
    "\n",
    "    bounding_box=lower_left_long,lower_left_lat,\n",
    "    upper_right_long,upper_right_lat\n",
    "\n",
    "**`bbox`**\n",
    "\n",
    "Unlike `bounding_box` above, `bbox` specifies a bounding box to be used for spatial subsetting. Output files will be cropped to the specified bounding box extent.\n",
    "\n",
    "    bbox=lower_left_long,lower_left_lat,\n",
    "    upper_right_long,upper_right_lat"
   ]
  },
  {
   "cell_type": "code",
   "execution_count": 57,
   "metadata": {
    "collapsed": true
   },
   "outputs": [],
   "source": [
    "import datetime\n",
    "from zipfile import ZipFile"
   ]
  },
  {
   "cell_type": "code",
   "execution_count": 96,
   "metadata": {
    "collapsed": true
   },
   "outputs": [],
   "source": [
    "L = 0\n",
    "short_name = ['SPL2SMP_E', 'SPL3SMP_E'][L]\n",
    "version = ['001', '001'][L]\n",
    "outputformat = ['GeoTIFF', 'HDF-EOS5'][1]\n",
    "from_time = ['2016-08-01', '2018-02-01'][0]\n",
    "to_time = ['2016-09-01', datetime.datetime.now().strftime('%Y-%m-%d')][0]\n",
    "variables = ','.join(['/Soil_Moisture_Retrieval_Data/soil_moisture',\n",
    "                      '/Soil_Moisture_Retrieval_Data/latitude',\n",
    "                      '/Soil_Moisture_Retrieval_Data/longitude',\n",
    "                      '/Soil_Moisture_Retrieval_Data/tb_time_utc',\n",
    "                      '/Soil_Moisture_Retrieval_Data/spacecraft_overpass_time_utc'])\n",
    "projection = 'Geographic'\n",
    "page_size = 2000 # default is 10, max is 2000"
   ]
  },
  {
   "cell_type": "code",
   "execution_count": 97,
   "metadata": {
    "collapsed": true
   },
   "outputs": [],
   "source": [
    "# just Connellsville\n",
    "box_lat = [39.9767, 40.0559]\n",
    "box_lon = [-79.6315, -79.5231]\n",
    "bbox = ','.join(map(str, [box_lon[0], box_lat[0], box_lon[1], box_lat[1]]))"
   ]
  },
  {
   "cell_type": "code",
   "execution_count": 98,
   "metadata": {
    "scrolled": true
   },
   "outputs": [
    {
     "data": {
      "text/plain": [
       "'-79.6315,39.9767,-79.5231,40.0559'"
      ]
     },
     "execution_count": 98,
     "metadata": {},
     "output_type": "execute_result"
    }
   ],
   "source": [
    "bbox"
   ]
  },
  {
   "cell_type": "markdown",
   "metadata": {},
   "source": [
    "had some issues with bbox, using bounding box instead (larger files)"
   ]
  },
  {
   "cell_type": "code",
   "execution_count": 99,
   "metadata": {
    "collapsed": true
   },
   "outputs": [],
   "source": [
    "request = ('https://n5eil01u.ecs.nsidc.org/egi/request?short_name={0}&version={1}&format={2}&'\n",
    "           'time={3},{4}&Coverage={5}&token={6}&bounding_box={7}&page_size={8}'.format(\n",
    "               short_name, version, outputformat, from_time, to_time, variables,\n",
    "               token, bbox, page_size))"
   ]
  },
  {
   "cell_type": "code",
   "execution_count": null,
   "metadata": {
    "scrolled": true
   },
   "outputs": [],
   "source": [
    "request"
   ]
  },
  {
   "cell_type": "code",
   "execution_count": 101,
   "metadata": {},
   "outputs": [
    {
     "name": "stdout",
     "output_type": "stream",
     "text": [
      "{'Content-Disposition': 'attachment; filename=\"5000000053234.zip\"', 'Transfer-Encoding': 'chunked', 'Keep-Alive': 'timeout=15, max=100', 'Server': 'Apache', 'Connection': 'Keep-Alive', 'Date': 'Mon, 26 Feb 2018 17:21:00 GMT', 'X-Frame-Options': 'SAMEORIGIN', 'Content-Type': 'application/xml'}\n"
     ]
    }
   ],
   "source": [
    "response = requests.get(request, stream=True)\n",
    "print(response.headers)"
   ]
  },
  {
   "cell_type": "code",
   "execution_count": 102,
   "metadata": {
    "collapsed": true
   },
   "outputs": [],
   "source": [
    "filename = 'smap.zip'\n",
    "with open(filename, 'wb') as handle:\n",
    "    for block in response.iter_content(1024):\n",
    "        handle.write(block)"
   ]
  },
  {
   "cell_type": "code",
   "execution_count": 103,
   "metadata": {
    "collapsed": true
   },
   "outputs": [],
   "source": [
    "with ZipFile(filename, \"r\") as zip_ref:\n",
    "    zip_ref.extractall('4')"
   ]
  },
  {
   "cell_type": "code",
   "execution_count": 70,
   "metadata": {
    "collapsed": true
   },
   "outputs": [],
   "source": [
    "import glob"
   ]
  },
  {
   "cell_type": "code",
   "execution_count": 104,
   "metadata": {
    "collapsed": true
   },
   "outputs": [],
   "source": [
    "fs = glob.glob('4/*/*')"
   ]
  },
  {
   "cell_type": "code",
   "execution_count": 105,
   "metadata": {},
   "outputs": [
    {
     "data": {
      "text/plain": [
       "'4/5000000053234:5000015052424/processed_SMAP_L2_SM_P_E_08013_D_20160801T112156_R14010_001.he5'"
      ]
     },
     "execution_count": 105,
     "metadata": {},
     "output_type": "execute_result"
    }
   ],
   "source": [
    "fs[0]\n"
   ]
  },
  {
   "cell_type": "code",
   "execution_count": 106,
   "metadata": {},
   "outputs": [
    {
     "data": {
      "text/plain": [
       "['4/5000000053234:5000015052424/processed_SMAP_L2_SM_P_E_08013_D_20160801T112156_R14010_001.he5',\n",
       " '4/5000000053234:5000015052425/processed_SMAP_L2_SM_P_E_08020_A_20160801T220157_R14010_001.he5',\n",
       " '4/5000000053234:5000015052426/processed_SMAP_L2_SM_P_E_08035_A_20160802T223853_R14010_001.he5',\n",
       " '4/5000000053234:5000015052427/processed_SMAP_L2_SM_P_E_08057_D_20160804T113416_R14010_001.he5',\n",
       " '4/5000000053234:5000015052428/processed_SMAP_L2_SM_P_E_08064_A_20160804T221417_R14010_001.he5',\n",
       " '4/5000000053234:5000015052429/processed_SMAP_L2_SM_P_E_08086_D_20160806T110944_R14010_001.he5',\n",
       " '4/5000000053234:5000015052430/processed_SMAP_L2_SM_P_E_08093_A_20160806T214941_R14010_001.he5',\n",
       " '4/5000000053234:5000015052431/processed_SMAP_L2_SM_P_E_08101_D_20160807T114637_R14010_001.he5',\n",
       " '4/5000000053234:5000015052432/processed_SMAP_L2_SM_P_E_08108_A_20160807T222637_R14010_001.he5',\n",
       " '4/5000000053234:5000015052433/processed_SMAP_L2_SM_P_E_08130_D_20160809T112200_R14010_001.he5',\n",
       " '4/5000000053234:5000015052434/processed_SMAP_L2_SM_P_E_08137_A_20160809T220201_R14010_001.he5',\n",
       " '4/5000000053234:5000015052435/processed_SMAP_L2_SM_P_E_08152_A_20160810T223858_R14010_001.he5',\n",
       " '4/5000000053234:5000015052436/processed_SMAP_L2_SM_P_E_08174_D_20160812T113421_R14010_001.he5',\n",
       " '4/5000000053234:5000015052437/processed_SMAP_L2_SM_P_E_08181_A_20160812T221421_R14010_001.he5',\n",
       " '4/5000000053234:5000015052438/processed_SMAP_L2_SM_P_E_08203_D_20160814T110944_R14010_001.he5',\n",
       " '4/5000000053234:5000015052439/processed_SMAP_L2_SM_P_E_08210_A_20160814T214945_R14010_001.he5',\n",
       " '4/5000000053234:5000015052440/processed_SMAP_L2_SM_P_E_08218_D_20160815T114641_R14010_001.he5',\n",
       " '4/5000000053234:5000015052441/processed_SMAP_L2_SM_P_E_08225_A_20160815T222642_R14010_001.he5',\n",
       " '4/5000000053234:5000015052442/processed_SMAP_L2_SM_P_E_08247_D_20160817T112205_R14010_001.he5',\n",
       " '4/5000000053234:5000015052443/processed_SMAP_L2_SM_P_E_08254_A_20160817T220205_R14010_001.he5',\n",
       " '4/5000000053234:5000015052444/processed_SMAP_L2_SM_P_E_08269_A_20160818T223902_R14010_001.he5',\n",
       " '4/5000000053234:5000015052445/processed_SMAP_L2_SM_P_E_08291_D_20160820T113425_R14010_001.he5',\n",
       " '4/5000000053234:5000015052446/processed_SMAP_L2_SM_P_E_08298_A_20160820T221422_R14010_001.he5',\n",
       " '4/5000000053234:5000015052447/processed_SMAP_L2_SM_P_E_08320_D_20160822T110949_R14010_001.he5',\n",
       " '4/5000000053234:5000015052448/processed_SMAP_L2_SM_P_E_08327_A_20160822T214945_R14010_001.he5',\n",
       " '4/5000000053234:5000015052449/processed_SMAP_L2_SM_P_E_08335_D_20160823T114641_R14010_001.he5',\n",
       " '4/5000000053234:5000015052450/processed_SMAP_L2_SM_P_E_08342_A_20160823T222642_R14010_001.he5',\n",
       " '4/5000000053234:5000015052451/processed_SMAP_L2_SM_P_E_08364_D_20160825T112205_R14010_001.he5',\n",
       " '4/5000000053234:5000015052452/processed_SMAP_L2_SM_P_E_08371_A_20160825T220206_R14010_001.he5',\n",
       " '4/5000000053234:5000015052453/processed_SMAP_L2_SM_P_E_08386_A_20160826T223902_R14010_001.he5',\n",
       " '4/5000000053234:5000015052454/processed_SMAP_L2_SM_P_E_08408_D_20160828T113425_R14010_001.he5',\n",
       " '4/5000000053234:5000015052455/processed_SMAP_L2_SM_P_E_08415_A_20160828T221426_R14010_001.he5',\n",
       " '4/5000000053234:5000015052456/processed_SMAP_L2_SM_P_E_08437_D_20160830T110949_R14010_001.he5',\n",
       " '4/5000000053234:5000015052457/processed_SMAP_L2_SM_P_E_08444_A_20160830T214950_R14010_001.he5',\n",
       " '4/5000000053234:5000015052458/processed_SMAP_L2_SM_P_E_08452_D_20160831T114642_R14010_001.he5',\n",
       " '4/5000000053234:5000015052459/processed_SMAP_L2_SM_P_E_08459_A_20160831T222642_R14010_001.he5']"
      ]
     },
     "execution_count": 106,
     "metadata": {},
     "output_type": "execute_result"
    }
   ],
   "source": [
    "fs"
   ]
  },
  {
   "cell_type": "code",
   "execution_count": 107,
   "metadata": {},
   "outputs": [
    {
     "data": {
      "text/plain": [
       "36"
      ]
     },
     "execution_count": 107,
     "metadata": {},
     "output_type": "execute_result"
    }
   ],
   "source": [
    "len(fs)"
   ]
  },
  {
   "cell_type": "code",
   "execution_count": null,
   "metadata": {
    "collapsed": true
   },
   "outputs": [],
   "source": []
  }
 ],
 "metadata": {
  "kernelspec": {
   "display_name": "Python 2",
   "language": "python",
   "name": "python2"
  },
  "language_info": {
   "codemirror_mode": {
    "name": "ipython",
    "version": 2
   },
   "file_extension": ".py",
   "mimetype": "text/x-python",
   "name": "python",
   "nbconvert_exporter": "python",
   "pygments_lexer": "ipython2",
   "version": "2.7.10"
  }
 },
 "nbformat": 4,
 "nbformat_minor": 2
}
