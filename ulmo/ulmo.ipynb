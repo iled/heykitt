{
 "cells": [
  {
   "cell_type": "code",
   "execution_count": 170,
   "metadata": {
    "collapsed": true
   },
   "outputs": [],
   "source": [
    "import matplotlib.pyplot as plt\n",
    "import numpy as np\n",
    "import pandas as pd\n",
    "import ulmo\n",
    "%matplotlib inline"
   ]
  },
  {
   "cell_type": "markdown",
   "metadata": {},
   "source": [
    "## [National Climatic Data Center Global Historical Climate Network Daily](https://www.ncdc.noaa.gov/ghcn-daily-description)"
   ]
  },
  {
   "cell_type": "markdown",
   "metadata": {},
   "source": [
    "Ulmo has a function ulmo.ncdc.ghcn_daily.get_stations that can obtain information about stations available in GHCN dataset and also let you define some conditions for the search, like country, time span, and specific variables.\n",
    "\n",
    "Country should be provided as a country code, and list of countries available [here](https://www1.ncdc.noaa.gov/pub/data/ghcn/daily/ghcnd-countries.txt). "
   ]
  },
  {
   "cell_type": "code",
   "execution_count": 32,
   "metadata": {
    "collapsed": true
   },
   "outputs": [],
   "source": [
    "stations = ulmo.ncdc.ghcn_daily.get_stations(country='US', state='PA', as_dataframe=True)"
   ]
  },
  {
   "cell_type": "code",
   "execution_count": 33,
   "metadata": {},
   "outputs": [
    {
     "data": {
      "text/plain": [
       "(1256, 12)"
      ]
     },
     "execution_count": 33,
     "metadata": {},
     "output_type": "execute_result"
    }
   ],
   "source": [
    "stations.shape"
   ]
  },
  {
   "cell_type": "code",
   "execution_count": 34,
   "metadata": {},
   "outputs": [
    {
     "data": {
      "text/html": [
       "<div>\n",
       "<style scoped>\n",
       "    .dataframe tbody tr th:only-of-type {\n",
       "        vertical-align: middle;\n",
       "    }\n",
       "\n",
       "    .dataframe tbody tr th {\n",
       "        vertical-align: top;\n",
       "    }\n",
       "\n",
       "    .dataframe thead th {\n",
       "        text-align: right;\n",
       "    }\n",
       "</style>\n",
       "<table border=\"1\" class=\"dataframe\">\n",
       "  <thead>\n",
       "    <tr style=\"text-align: right;\">\n",
       "      <th></th>\n",
       "      <th>country</th>\n",
       "      <th>network</th>\n",
       "      <th>network_id</th>\n",
       "      <th>latitude</th>\n",
       "      <th>longitude</th>\n",
       "      <th>elevation</th>\n",
       "      <th>state</th>\n",
       "      <th>name</th>\n",
       "      <th>gsn_flag</th>\n",
       "      <th>hcn_flag</th>\n",
       "      <th>wm_oid</th>\n",
       "      <th>id</th>\n",
       "    </tr>\n",
       "    <tr>\n",
       "      <th>id</th>\n",
       "      <th></th>\n",
       "      <th></th>\n",
       "      <th></th>\n",
       "      <th></th>\n",
       "      <th></th>\n",
       "      <th></th>\n",
       "      <th></th>\n",
       "      <th></th>\n",
       "      <th></th>\n",
       "      <th></th>\n",
       "      <th></th>\n",
       "      <th></th>\n",
       "    </tr>\n",
       "  </thead>\n",
       "  <tbody>\n",
       "    <tr>\n",
       "      <th>US1PAAD0002</th>\n",
       "      <td>US</td>\n",
       "      <td>1</td>\n",
       "      <td>PAAD0002</td>\n",
       "      <td>39.9192</td>\n",
       "      <td>-76.9894</td>\n",
       "      <td>139.0</td>\n",
       "      <td>PA</td>\n",
       "      <td>ABBOTTSTOWN 2.4 N</td>\n",
       "      <td>NaN</td>\n",
       "      <td>NaN</td>\n",
       "      <td>NaN</td>\n",
       "      <td>US1PAAD0002</td>\n",
       "    </tr>\n",
       "    <tr>\n",
       "      <th>US1PAAD0003</th>\n",
       "      <td>US</td>\n",
       "      <td>1</td>\n",
       "      <td>PAAD0003</td>\n",
       "      <td>40.0014</td>\n",
       "      <td>-77.1089</td>\n",
       "      <td>189.6</td>\n",
       "      <td>PA</td>\n",
       "      <td>YORK SPRINGS 0.7 SE</td>\n",
       "      <td>NaN</td>\n",
       "      <td>NaN</td>\n",
       "      <td>NaN</td>\n",
       "      <td>US1PAAD0003</td>\n",
       "    </tr>\n",
       "    <tr>\n",
       "      <th>US1PAAD0005</th>\n",
       "      <td>US</td>\n",
       "      <td>1</td>\n",
       "      <td>PAAD0005</td>\n",
       "      <td>39.8400</td>\n",
       "      <td>-77.2270</td>\n",
       "      <td>152.7</td>\n",
       "      <td>PA</td>\n",
       "      <td>GETTYSBURG 0.8 NNE</td>\n",
       "      <td>NaN</td>\n",
       "      <td>NaN</td>\n",
       "      <td>NaN</td>\n",
       "      <td>US1PAAD0005</td>\n",
       "    </tr>\n",
       "    <tr>\n",
       "      <th>US1PAAD0006</th>\n",
       "      <td>US</td>\n",
       "      <td>1</td>\n",
       "      <td>PAAD0006</td>\n",
       "      <td>39.8896</td>\n",
       "      <td>-77.3756</td>\n",
       "      <td>360.6</td>\n",
       "      <td>PA</td>\n",
       "      <td>ORRTANNA 3.2 NNW</td>\n",
       "      <td>NaN</td>\n",
       "      <td>NaN</td>\n",
       "      <td>NaN</td>\n",
       "      <td>US1PAAD0006</td>\n",
       "    </tr>\n",
       "    <tr>\n",
       "      <th>US1PAAD0007</th>\n",
       "      <td>US</td>\n",
       "      <td>1</td>\n",
       "      <td>PAAD0007</td>\n",
       "      <td>39.7293</td>\n",
       "      <td>-77.3673</td>\n",
       "      <td>150.0</td>\n",
       "      <td>PA</td>\n",
       "      <td>FAIRFIELD 4.0 S</td>\n",
       "      <td>NaN</td>\n",
       "      <td>NaN</td>\n",
       "      <td>NaN</td>\n",
       "      <td>US1PAAD0007</td>\n",
       "    </tr>\n",
       "  </tbody>\n",
       "</table>\n",
       "</div>"
      ],
      "text/plain": [
       "            country network network_id  latitude  longitude  elevation state  \\\n",
       "id                                                                             \n",
       "US1PAAD0002      US       1   PAAD0002   39.9192   -76.9894      139.0    PA   \n",
       "US1PAAD0003      US       1   PAAD0003   40.0014   -77.1089      189.6    PA   \n",
       "US1PAAD0005      US       1   PAAD0005   39.8400   -77.2270      152.7    PA   \n",
       "US1PAAD0006      US       1   PAAD0006   39.8896   -77.3756      360.6    PA   \n",
       "US1PAAD0007      US       1   PAAD0007   39.7293   -77.3673      150.0    PA   \n",
       "\n",
       "                            name gsn_flag hcn_flag wm_oid           id  \n",
       "id                                                                      \n",
       "US1PAAD0002    ABBOTTSTOWN 2.4 N      NaN      NaN    NaN  US1PAAD0002  \n",
       "US1PAAD0003  YORK SPRINGS 0.7 SE      NaN      NaN    NaN  US1PAAD0003  \n",
       "US1PAAD0005   GETTYSBURG 0.8 NNE      NaN      NaN    NaN  US1PAAD0005  \n",
       "US1PAAD0006     ORRTANNA 3.2 NNW      NaN      NaN    NaN  US1PAAD0006  \n",
       "US1PAAD0007      FAIRFIELD 4.0 S      NaN      NaN    NaN  US1PAAD0007  "
      ]
     },
     "execution_count": 34,
     "metadata": {},
     "output_type": "execute_result"
    }
   ],
   "source": [
    "stations.head()"
   ]
  },
  {
   "cell_type": "code",
   "execution_count": 35,
   "metadata": {},
   "outputs": [
    {
     "data": {
      "text/html": [
       "<div>\n",
       "<style scoped>\n",
       "    .dataframe tbody tr th:only-of-type {\n",
       "        vertical-align: middle;\n",
       "    }\n",
       "\n",
       "    .dataframe tbody tr th {\n",
       "        vertical-align: top;\n",
       "    }\n",
       "\n",
       "    .dataframe thead th {\n",
       "        text-align: right;\n",
       "    }\n",
       "</style>\n",
       "<table border=\"1\" class=\"dataframe\">\n",
       "  <thead>\n",
       "    <tr style=\"text-align: right;\">\n",
       "      <th></th>\n",
       "      <th>country</th>\n",
       "      <th>network</th>\n",
       "      <th>network_id</th>\n",
       "      <th>latitude</th>\n",
       "      <th>longitude</th>\n",
       "      <th>elevation</th>\n",
       "      <th>state</th>\n",
       "      <th>name</th>\n",
       "      <th>gsn_flag</th>\n",
       "      <th>hcn_flag</th>\n",
       "      <th>wm_oid</th>\n",
       "      <th>id</th>\n",
       "    </tr>\n",
       "    <tr>\n",
       "      <th>id</th>\n",
       "      <th></th>\n",
       "      <th></th>\n",
       "      <th></th>\n",
       "      <th></th>\n",
       "      <th></th>\n",
       "      <th></th>\n",
       "      <th></th>\n",
       "      <th></th>\n",
       "      <th></th>\n",
       "      <th></th>\n",
       "      <th></th>\n",
       "      <th></th>\n",
       "    </tr>\n",
       "  </thead>\n",
       "  <tbody>\n",
       "    <tr>\n",
       "      <th>US1PAFY0013</th>\n",
       "      <td>US</td>\n",
       "      <td>1</td>\n",
       "      <td>PAFY0013</td>\n",
       "      <td>39.9960</td>\n",
       "      <td>-79.5788</td>\n",
       "      <td>399.9</td>\n",
       "      <td>PA</td>\n",
       "      <td>SOUTH CONNELLSVILLE 0.3 NE</td>\n",
       "      <td>NaN</td>\n",
       "      <td>NaN</td>\n",
       "      <td>NaN</td>\n",
       "      <td>US1PAFY0013</td>\n",
       "    </tr>\n",
       "    <tr>\n",
       "      <th>USC00361723</th>\n",
       "      <td>US</td>\n",
       "      <td>C</td>\n",
       "      <td>00361723</td>\n",
       "      <td>40.0167</td>\n",
       "      <td>-79.6000</td>\n",
       "      <td>265.2</td>\n",
       "      <td>PA</td>\n",
       "      <td>CONNELLSVILLE</td>\n",
       "      <td>NaN</td>\n",
       "      <td>NaN</td>\n",
       "      <td>NaN</td>\n",
       "      <td>USC00361723</td>\n",
       "    </tr>\n",
       "    <tr>\n",
       "      <th>USC00361726</th>\n",
       "      <td>US</td>\n",
       "      <td>C</td>\n",
       "      <td>00361726</td>\n",
       "      <td>39.9969</td>\n",
       "      <td>-79.5964</td>\n",
       "      <td>274.3</td>\n",
       "      <td>PA</td>\n",
       "      <td>CONNELLSVILLE 2 SSW</td>\n",
       "      <td>NaN</td>\n",
       "      <td>NaN</td>\n",
       "      <td>NaN</td>\n",
       "      <td>USC00361726</td>\n",
       "    </tr>\n",
       "    <tr>\n",
       "      <th>USC00361727</th>\n",
       "      <td>US</td>\n",
       "      <td>C</td>\n",
       "      <td>00361727</td>\n",
       "      <td>40.0000</td>\n",
       "      <td>-79.5833</td>\n",
       "      <td>323.1</td>\n",
       "      <td>PA</td>\n",
       "      <td>CONNELLSVILLE 3</td>\n",
       "      <td>NaN</td>\n",
       "      <td>NaN</td>\n",
       "      <td>NaN</td>\n",
       "      <td>USC00361727</td>\n",
       "    </tr>\n",
       "    <tr>\n",
       "      <th>USC00361728</th>\n",
       "      <td>US</td>\n",
       "      <td>C</td>\n",
       "      <td>00361728</td>\n",
       "      <td>40.0167</td>\n",
       "      <td>-79.5667</td>\n",
       "      <td>348.1</td>\n",
       "      <td>PA</td>\n",
       "      <td>CONNELLSVILLE 1 E</td>\n",
       "      <td>NaN</td>\n",
       "      <td>NaN</td>\n",
       "      <td>NaN</td>\n",
       "      <td>USC00361728</td>\n",
       "    </tr>\n",
       "  </tbody>\n",
       "</table>\n",
       "</div>"
      ],
      "text/plain": [
       "            country network network_id  latitude  longitude  elevation state  \\\n",
       "id                                                                             \n",
       "US1PAFY0013      US       1   PAFY0013   39.9960   -79.5788      399.9    PA   \n",
       "USC00361723      US       C   00361723   40.0167   -79.6000      265.2    PA   \n",
       "USC00361726      US       C   00361726   39.9969   -79.5964      274.3    PA   \n",
       "USC00361727      US       C   00361727   40.0000   -79.5833      323.1    PA   \n",
       "USC00361728      US       C   00361728   40.0167   -79.5667      348.1    PA   \n",
       "\n",
       "                                   name gsn_flag hcn_flag wm_oid           id  \n",
       "id                                                                             \n",
       "US1PAFY0013  SOUTH CONNELLSVILLE 0.3 NE      NaN      NaN    NaN  US1PAFY0013  \n",
       "USC00361723               CONNELLSVILLE      NaN      NaN    NaN  USC00361723  \n",
       "USC00361726         CONNELLSVILLE 2 SSW      NaN      NaN    NaN  USC00361726  \n",
       "USC00361727             CONNELLSVILLE 3      NaN      NaN    NaN  USC00361727  \n",
       "USC00361728           CONNELLSVILLE 1 E      NaN      NaN    NaN  USC00361728  "
      ]
     },
     "execution_count": 35,
     "metadata": {},
     "output_type": "execute_result"
    }
   ],
   "source": [
    "stations_connell = stations[stations.name.str.contains('CONNELLSVILLE')]\n",
    "stations_connell.head()"
   ]
  },
  {
   "cell_type": "code",
   "execution_count": 55,
   "metadata": {
    "collapsed": true
   },
   "outputs": [],
   "source": [
    "t = ulmo.ncdc.ghcn_daily.get_data('US1PAFY0013', as_dataframe=True)"
   ]
  },
  {
   "cell_type": "code",
   "execution_count": 88,
   "metadata": {},
   "outputs": [
    {
     "data": {
      "text/html": [
       "<div>\n",
       "<style scoped>\n",
       "    .dataframe tbody tr th:only-of-type {\n",
       "        vertical-align: middle;\n",
       "    }\n",
       "\n",
       "    .dataframe tbody tr th {\n",
       "        vertical-align: top;\n",
       "    }\n",
       "\n",
       "    .dataframe thead tr th {\n",
       "        text-align: left;\n",
       "    }\n",
       "\n",
       "    .dataframe thead tr:last-of-type th {\n",
       "        text-align: right;\n",
       "    }\n",
       "</style>\n",
       "<table border=\"1\" class=\"dataframe\">\n",
       "  <thead>\n",
       "    <tr>\n",
       "      <th></th>\n",
       "      <th colspan=\"4\" halign=\"left\">WESD</th>\n",
       "      <th colspan=\"4\" halign=\"left\">PRCP</th>\n",
       "      <th colspan=\"4\" halign=\"left\">SNOW</th>\n",
       "      <th colspan=\"4\" halign=\"left\">SNWD</th>\n",
       "      <th colspan=\"4\" halign=\"left\">WESF</th>\n",
       "    </tr>\n",
       "    <tr>\n",
       "      <th></th>\n",
       "      <th>value</th>\n",
       "      <th>mflag</th>\n",
       "      <th>qflag</th>\n",
       "      <th>sflag</th>\n",
       "      <th>value</th>\n",
       "      <th>mflag</th>\n",
       "      <th>qflag</th>\n",
       "      <th>sflag</th>\n",
       "      <th>value</th>\n",
       "      <th>mflag</th>\n",
       "      <th>qflag</th>\n",
       "      <th>sflag</th>\n",
       "      <th>value</th>\n",
       "      <th>mflag</th>\n",
       "      <th>qflag</th>\n",
       "      <th>sflag</th>\n",
       "      <th>value</th>\n",
       "      <th>mflag</th>\n",
       "      <th>qflag</th>\n",
       "      <th>sflag</th>\n",
       "    </tr>\n",
       "    <tr>\n",
       "      <th>month_period</th>\n",
       "      <th></th>\n",
       "      <th></th>\n",
       "      <th></th>\n",
       "      <th></th>\n",
       "      <th></th>\n",
       "      <th></th>\n",
       "      <th></th>\n",
       "      <th></th>\n",
       "      <th></th>\n",
       "      <th></th>\n",
       "      <th></th>\n",
       "      <th></th>\n",
       "      <th></th>\n",
       "      <th></th>\n",
       "      <th></th>\n",
       "      <th></th>\n",
       "      <th></th>\n",
       "      <th></th>\n",
       "      <th></th>\n",
       "      <th></th>\n",
       "    </tr>\n",
       "  </thead>\n",
       "  <tbody>\n",
       "    <tr>\n",
       "      <th>2016-07-01</th>\n",
       "      <td>NaN</td>\n",
       "      <td>NaN</td>\n",
       "      <td>NaN</td>\n",
       "      <td>NaN</td>\n",
       "      <td>NaN</td>\n",
       "      <td>NaN</td>\n",
       "      <td>NaN</td>\n",
       "      <td>NaN</td>\n",
       "      <td>NaN</td>\n",
       "      <td>NaN</td>\n",
       "      <td>NaN</td>\n",
       "      <td>NaN</td>\n",
       "      <td>NaN</td>\n",
       "      <td>NaN</td>\n",
       "      <td>NaN</td>\n",
       "      <td>NaN</td>\n",
       "      <td>NaN</td>\n",
       "      <td>NaN</td>\n",
       "      <td>NaN</td>\n",
       "      <td>NaN</td>\n",
       "    </tr>\n",
       "    <tr>\n",
       "      <th>2016-07-02</th>\n",
       "      <td>NaN</td>\n",
       "      <td>NaN</td>\n",
       "      <td>NaN</td>\n",
       "      <td>NaN</td>\n",
       "      <td>NaN</td>\n",
       "      <td>NaN</td>\n",
       "      <td>NaN</td>\n",
       "      <td>NaN</td>\n",
       "      <td>NaN</td>\n",
       "      <td>NaN</td>\n",
       "      <td>NaN</td>\n",
       "      <td>NaN</td>\n",
       "      <td>NaN</td>\n",
       "      <td>NaN</td>\n",
       "      <td>NaN</td>\n",
       "      <td>NaN</td>\n",
       "      <td>NaN</td>\n",
       "      <td>NaN</td>\n",
       "      <td>NaN</td>\n",
       "      <td>NaN</td>\n",
       "    </tr>\n",
       "    <tr>\n",
       "      <th>2016-07-03</th>\n",
       "      <td>NaN</td>\n",
       "      <td>NaN</td>\n",
       "      <td>NaN</td>\n",
       "      <td>NaN</td>\n",
       "      <td>NaN</td>\n",
       "      <td>NaN</td>\n",
       "      <td>NaN</td>\n",
       "      <td>NaN</td>\n",
       "      <td>NaN</td>\n",
       "      <td>NaN</td>\n",
       "      <td>NaN</td>\n",
       "      <td>NaN</td>\n",
       "      <td>NaN</td>\n",
       "      <td>NaN</td>\n",
       "      <td>NaN</td>\n",
       "      <td>NaN</td>\n",
       "      <td>NaN</td>\n",
       "      <td>NaN</td>\n",
       "      <td>NaN</td>\n",
       "      <td>NaN</td>\n",
       "    </tr>\n",
       "    <tr>\n",
       "      <th>2016-07-04</th>\n",
       "      <td>NaN</td>\n",
       "      <td>NaN</td>\n",
       "      <td>NaN</td>\n",
       "      <td>NaN</td>\n",
       "      <td>NaN</td>\n",
       "      <td>NaN</td>\n",
       "      <td>NaN</td>\n",
       "      <td>NaN</td>\n",
       "      <td>NaN</td>\n",
       "      <td>NaN</td>\n",
       "      <td>NaN</td>\n",
       "      <td>NaN</td>\n",
       "      <td>NaN</td>\n",
       "      <td>NaN</td>\n",
       "      <td>NaN</td>\n",
       "      <td>NaN</td>\n",
       "      <td>NaN</td>\n",
       "      <td>NaN</td>\n",
       "      <td>NaN</td>\n",
       "      <td>NaN</td>\n",
       "    </tr>\n",
       "    <tr>\n",
       "      <th>2016-07-05</th>\n",
       "      <td>NaN</td>\n",
       "      <td>NaN</td>\n",
       "      <td>NaN</td>\n",
       "      <td>NaN</td>\n",
       "      <td>NaN</td>\n",
       "      <td>NaN</td>\n",
       "      <td>NaN</td>\n",
       "      <td>NaN</td>\n",
       "      <td>NaN</td>\n",
       "      <td>NaN</td>\n",
       "      <td>NaN</td>\n",
       "      <td>NaN</td>\n",
       "      <td>NaN</td>\n",
       "      <td>NaN</td>\n",
       "      <td>NaN</td>\n",
       "      <td>NaN</td>\n",
       "      <td>NaN</td>\n",
       "      <td>NaN</td>\n",
       "      <td>NaN</td>\n",
       "      <td>NaN</td>\n",
       "    </tr>\n",
       "  </tbody>\n",
       "</table>\n",
       "</div>"
      ],
      "text/plain": [
       "              WESD                    PRCP                    SNOW        \\\n",
       "             value mflag qflag sflag value mflag qflag sflag value mflag   \n",
       "month_period                                                               \n",
       "2016-07-01     NaN   NaN   NaN   NaN   NaN   NaN   NaN   NaN   NaN   NaN   \n",
       "2016-07-02     NaN   NaN   NaN   NaN   NaN   NaN   NaN   NaN   NaN   NaN   \n",
       "2016-07-03     NaN   NaN   NaN   NaN   NaN   NaN   NaN   NaN   NaN   NaN   \n",
       "2016-07-04     NaN   NaN   NaN   NaN   NaN   NaN   NaN   NaN   NaN   NaN   \n",
       "2016-07-05     NaN   NaN   NaN   NaN   NaN   NaN   NaN   NaN   NaN   NaN   \n",
       "\n",
       "                          SNWD                    WESF                    \n",
       "             qflag sflag value mflag qflag sflag value mflag qflag sflag  \n",
       "month_period                                                              \n",
       "2016-07-01     NaN   NaN   NaN   NaN   NaN   NaN   NaN   NaN   NaN   NaN  \n",
       "2016-07-02     NaN   NaN   NaN   NaN   NaN   NaN   NaN   NaN   NaN   NaN  \n",
       "2016-07-03     NaN   NaN   NaN   NaN   NaN   NaN   NaN   NaN   NaN   NaN  \n",
       "2016-07-04     NaN   NaN   NaN   NaN   NaN   NaN   NaN   NaN   NaN   NaN  \n",
       "2016-07-05     NaN   NaN   NaN   NaN   NaN   NaN   NaN   NaN   NaN   NaN  "
      ]
     },
     "execution_count": 88,
     "metadata": {},
     "output_type": "execute_result"
    }
   ],
   "source": [
    "t1 = pd.concat([t[x] for x in t.keys() if x in t],  keys=t.keys(), axis=1)\n",
    "t1.head()"
   ]
  },
  {
   "cell_type": "code",
   "execution_count": 90,
   "metadata": {
    "collapsed": true
   },
   "outputs": [],
   "source": [
    "def get_ghcd_daily(stations, elements=None):\n",
    "    data = pd.DataFrame()\n",
    "    for station in stations:\n",
    "        station_data = ulmo.ncdc.ghcn_daily.get_data(station, as_dataframe=True)\n",
    "        if elements is None:\n",
    "            elements = station_data.keys()\n",
    "\n",
    "        station_data = pd.concat([station_data[element] for element in station_data.keys()\n",
    "                                  if element in station_data], keys=station_data.keys(), axis=1)\n",
    "        station_data.insert(0, 'Station', station)\n",
    "        data = pd.concat([data, station_data])\n",
    "    return data"
   ]
  },
  {
   "cell_type": "code",
   "execution_count": 91,
   "metadata": {},
   "outputs": [
    {
     "name": "stderr",
     "output_type": "stream",
     "text": [
      "/Users/mac1/Library/Python/2.7/lib/python/site-packages/ulmo/ncdc/ghcn_daily/core.py:111: SettingWithCopyWarning: \n",
      "A value is trying to be set on a copy of a slice from a DataFrame\n",
      "\n",
      "See the caveats in the documentation: http://pandas.pydata.org/pandas-docs/stable/indexing.html#indexing-view-versus-copy\n",
      "  dataframe[column_name][dates] = element_df[col][months]\n"
     ]
    },
    {
     "data": {
      "text/html": [
       "<div>\n",
       "<style scoped>\n",
       "    .dataframe tbody tr th:only-of-type {\n",
       "        vertical-align: middle;\n",
       "    }\n",
       "\n",
       "    .dataframe tbody tr th {\n",
       "        vertical-align: top;\n",
       "    }\n",
       "\n",
       "    .dataframe thead tr th {\n",
       "        text-align: left;\n",
       "    }\n",
       "\n",
       "    .dataframe thead tr:last-of-type th {\n",
       "        text-align: right;\n",
       "    }\n",
       "</style>\n",
       "<table border=\"1\" class=\"dataframe\">\n",
       "  <thead>\n",
       "    <tr>\n",
       "      <th></th>\n",
       "      <th>Station</th>\n",
       "      <th colspan=\"4\" halign=\"left\">WESD</th>\n",
       "      <th colspan=\"4\" halign=\"left\">PRCP</th>\n",
       "      <th>SNOW</th>\n",
       "      <th>...</th>\n",
       "      <th colspan=\"2\" halign=\"left\">WT05</th>\n",
       "      <th colspan=\"4\" halign=\"left\">WT04</th>\n",
       "      <th colspan=\"4\" halign=\"left\">WT03</th>\n",
       "    </tr>\n",
       "    <tr>\n",
       "      <th></th>\n",
       "      <th></th>\n",
       "      <th>value</th>\n",
       "      <th>mflag</th>\n",
       "      <th>qflag</th>\n",
       "      <th>sflag</th>\n",
       "      <th>value</th>\n",
       "      <th>mflag</th>\n",
       "      <th>qflag</th>\n",
       "      <th>sflag</th>\n",
       "      <th>value</th>\n",
       "      <th>...</th>\n",
       "      <th>qflag</th>\n",
       "      <th>sflag</th>\n",
       "      <th>value</th>\n",
       "      <th>mflag</th>\n",
       "      <th>qflag</th>\n",
       "      <th>sflag</th>\n",
       "      <th>value</th>\n",
       "      <th>mflag</th>\n",
       "      <th>qflag</th>\n",
       "      <th>sflag</th>\n",
       "    </tr>\n",
       "    <tr>\n",
       "      <th>month_period</th>\n",
       "      <th></th>\n",
       "      <th></th>\n",
       "      <th></th>\n",
       "      <th></th>\n",
       "      <th></th>\n",
       "      <th></th>\n",
       "      <th></th>\n",
       "      <th></th>\n",
       "      <th></th>\n",
       "      <th></th>\n",
       "      <th></th>\n",
       "      <th></th>\n",
       "      <th></th>\n",
       "      <th></th>\n",
       "      <th></th>\n",
       "      <th></th>\n",
       "      <th></th>\n",
       "      <th></th>\n",
       "      <th></th>\n",
       "      <th></th>\n",
       "      <th></th>\n",
       "    </tr>\n",
       "  </thead>\n",
       "  <tbody>\n",
       "    <tr>\n",
       "      <th>2016-07-01</th>\n",
       "      <td>US1PAFY0013</td>\n",
       "      <td>NaN</td>\n",
       "      <td>NaN</td>\n",
       "      <td>NaN</td>\n",
       "      <td>NaN</td>\n",
       "      <td>NaN</td>\n",
       "      <td>NaN</td>\n",
       "      <td>NaN</td>\n",
       "      <td>NaN</td>\n",
       "      <td>NaN</td>\n",
       "      <td>...</td>\n",
       "      <td>NaN</td>\n",
       "      <td>NaN</td>\n",
       "      <td>NaN</td>\n",
       "      <td>NaN</td>\n",
       "      <td>NaN</td>\n",
       "      <td>NaN</td>\n",
       "      <td>NaN</td>\n",
       "      <td>NaN</td>\n",
       "      <td>NaN</td>\n",
       "      <td>NaN</td>\n",
       "    </tr>\n",
       "    <tr>\n",
       "      <th>2016-07-02</th>\n",
       "      <td>US1PAFY0013</td>\n",
       "      <td>NaN</td>\n",
       "      <td>NaN</td>\n",
       "      <td>NaN</td>\n",
       "      <td>NaN</td>\n",
       "      <td>NaN</td>\n",
       "      <td>NaN</td>\n",
       "      <td>NaN</td>\n",
       "      <td>NaN</td>\n",
       "      <td>NaN</td>\n",
       "      <td>...</td>\n",
       "      <td>NaN</td>\n",
       "      <td>NaN</td>\n",
       "      <td>NaN</td>\n",
       "      <td>NaN</td>\n",
       "      <td>NaN</td>\n",
       "      <td>NaN</td>\n",
       "      <td>NaN</td>\n",
       "      <td>NaN</td>\n",
       "      <td>NaN</td>\n",
       "      <td>NaN</td>\n",
       "    </tr>\n",
       "    <tr>\n",
       "      <th>2016-07-03</th>\n",
       "      <td>US1PAFY0013</td>\n",
       "      <td>NaN</td>\n",
       "      <td>NaN</td>\n",
       "      <td>NaN</td>\n",
       "      <td>NaN</td>\n",
       "      <td>NaN</td>\n",
       "      <td>NaN</td>\n",
       "      <td>NaN</td>\n",
       "      <td>NaN</td>\n",
       "      <td>NaN</td>\n",
       "      <td>...</td>\n",
       "      <td>NaN</td>\n",
       "      <td>NaN</td>\n",
       "      <td>NaN</td>\n",
       "      <td>NaN</td>\n",
       "      <td>NaN</td>\n",
       "      <td>NaN</td>\n",
       "      <td>NaN</td>\n",
       "      <td>NaN</td>\n",
       "      <td>NaN</td>\n",
       "      <td>NaN</td>\n",
       "    </tr>\n",
       "    <tr>\n",
       "      <th>2016-07-04</th>\n",
       "      <td>US1PAFY0013</td>\n",
       "      <td>NaN</td>\n",
       "      <td>NaN</td>\n",
       "      <td>NaN</td>\n",
       "      <td>NaN</td>\n",
       "      <td>NaN</td>\n",
       "      <td>NaN</td>\n",
       "      <td>NaN</td>\n",
       "      <td>NaN</td>\n",
       "      <td>NaN</td>\n",
       "      <td>...</td>\n",
       "      <td>NaN</td>\n",
       "      <td>NaN</td>\n",
       "      <td>NaN</td>\n",
       "      <td>NaN</td>\n",
       "      <td>NaN</td>\n",
       "      <td>NaN</td>\n",
       "      <td>NaN</td>\n",
       "      <td>NaN</td>\n",
       "      <td>NaN</td>\n",
       "      <td>NaN</td>\n",
       "    </tr>\n",
       "    <tr>\n",
       "      <th>2016-07-05</th>\n",
       "      <td>US1PAFY0013</td>\n",
       "      <td>NaN</td>\n",
       "      <td>NaN</td>\n",
       "      <td>NaN</td>\n",
       "      <td>NaN</td>\n",
       "      <td>NaN</td>\n",
       "      <td>NaN</td>\n",
       "      <td>NaN</td>\n",
       "      <td>NaN</td>\n",
       "      <td>NaN</td>\n",
       "      <td>...</td>\n",
       "      <td>NaN</td>\n",
       "      <td>NaN</td>\n",
       "      <td>NaN</td>\n",
       "      <td>NaN</td>\n",
       "      <td>NaN</td>\n",
       "      <td>NaN</td>\n",
       "      <td>NaN</td>\n",
       "      <td>NaN</td>\n",
       "      <td>NaN</td>\n",
       "      <td>NaN</td>\n",
       "    </tr>\n",
       "  </tbody>\n",
       "</table>\n",
       "<p>5 rows × 85 columns</p>\n",
       "</div>"
      ],
      "text/plain": [
       "                  Station  WESD                    PRCP                    \\\n",
       "                          value mflag qflag sflag value mflag qflag sflag   \n",
       "month_period                                                                \n",
       "2016-07-01    US1PAFY0013   NaN   NaN   NaN   NaN   NaN   NaN   NaN   NaN   \n",
       "2016-07-02    US1PAFY0013   NaN   NaN   NaN   NaN   NaN   NaN   NaN   NaN   \n",
       "2016-07-03    US1PAFY0013   NaN   NaN   NaN   NaN   NaN   NaN   NaN   NaN   \n",
       "2016-07-04    US1PAFY0013   NaN   NaN   NaN   NaN   NaN   NaN   NaN   NaN   \n",
       "2016-07-05    US1PAFY0013   NaN   NaN   NaN   NaN   NaN   NaN   NaN   NaN   \n",
       "\n",
       "              SNOW  ...   WT05        WT04                    WT03        \\\n",
       "             value  ...  qflag sflag value mflag qflag sflag value mflag   \n",
       "month_period        ...                                                    \n",
       "2016-07-01     NaN  ...    NaN   NaN   NaN   NaN   NaN   NaN   NaN   NaN   \n",
       "2016-07-02     NaN  ...    NaN   NaN   NaN   NaN   NaN   NaN   NaN   NaN   \n",
       "2016-07-03     NaN  ...    NaN   NaN   NaN   NaN   NaN   NaN   NaN   NaN   \n",
       "2016-07-04     NaN  ...    NaN   NaN   NaN   NaN   NaN   NaN   NaN   NaN   \n",
       "2016-07-05     NaN  ...    NaN   NaN   NaN   NaN   NaN   NaN   NaN   NaN   \n",
       "\n",
       "                          \n",
       "             qflag sflag  \n",
       "month_period              \n",
       "2016-07-01     NaN   NaN  \n",
       "2016-07-02     NaN   NaN  \n",
       "2016-07-03     NaN   NaN  \n",
       "2016-07-04     NaN   NaN  \n",
       "2016-07-05     NaN   NaN  \n",
       "\n",
       "[5 rows x 85 columns]"
      ]
     },
     "execution_count": 91,
     "metadata": {},
     "output_type": "execute_result"
    }
   ],
   "source": [
    "daily_connell = get_ghcd_daily(stations_connell.id.values)\n",
    "daily_connell.head()"
   ]
  },
  {
   "cell_type": "code",
   "execution_count": 106,
   "metadata": {},
   "outputs": [
    {
     "data": {
      "text/plain": [
       "(34576, 85)"
      ]
     },
     "execution_count": 106,
     "metadata": {},
     "output_type": "execute_result"
    }
   ],
   "source": [
    "daily_connell.shape"
   ]
  },
  {
   "cell_type": "code",
   "execution_count": 105,
   "metadata": {},
   "outputs": [
    {
     "data": {
      "text/plain": [
       "(32658,)"
      ]
     },
     "execution_count": 105,
     "metadata": {},
     "output_type": "execute_result"
    }
   ],
   "source": [
    "daily_mean = daily_connell['PRCP', 'value'].astype('float').resample('D').mean()\n",
    "daily_mean.shape"
   ]
  },
  {
   "cell_type": "code",
   "execution_count": 119,
   "metadata": {},
   "outputs": [
    {
     "data": {
      "image/png": "[encoded data removed]",
      "text/plain": [
       "<matplotlib.figure.Figure at 0x11a7c6050>"
      ]
     },
     "metadata": {},
     "output_type": "display_data"
    }
   ],
   "source": [
    "daily_mean.plot();"
   ]
  },
  {
   "cell_type": "code",
   "execution_count": 122,
   "metadata": {
    "scrolled": true
   },
   "outputs": [
    {
     "data": {
      "image/png": "[encoded data removed]",
      "text/plain": [
       "<matplotlib.figure.Figure at 0x113b91dd0>"
      ]
     },
     "metadata": {},
     "output_type": "display_data"
    }
   ],
   "source": [
    "daily_mean.rolling('30D', min_periods=20).mean().plot(style='-g');"
   ]
  },
  {
   "cell_type": "code",
   "execution_count": 266,
   "metadata": {
    "collapsed": true
   },
   "outputs": [],
   "source": [
    "annual = daily_mean.resample('Y')\n",
    "annual_count = annual.agg('count')\n",
    "annual_total = annual.agg('sum')"
   ]
  },
  {
   "cell_type": "code",
   "execution_count": 290,
   "metadata": {},
   "outputs": [
    {
     "data": {
      "image/png": "[encoded data removed]",
      "text/plain": [
       "<matplotlib.figure.Figure at 0x115433f50>"
      ]
     },
     "metadata": {},
     "output_type": "display_data"
    }
   ],
   "source": [
    "annual_total.plot(style='-b');\n",
    "annual_count.plot(style='-g', secondary_y=True);\n",
    "annual_total.rolling('10950D', min_periods=30).mean().plot(style=':r');"
   ]
  },
  {
   "cell_type": "markdown",
   "metadata": {},
   "source": [
    "## [NASA EARTHDATA ORNL DAAC Daymet](https://daymet.ornl.gov/dataaccess.html)"
   ]
  },
  {
   "cell_type": "code",
   "execution_count": 2,
   "metadata": {},
   "outputs": [
    {
     "data": {
      "text/plain": [
       "{'dayl': 'daylength',\n",
       " 'prcp': 'precipitation',\n",
       " 'srad': 'shortwave radiation',\n",
       " 'swe': 'snow-water equivalent',\n",
       " 'tmax': 'maximum temperature',\n",
       " 'tmin': 'minimum temperature',\n",
       " 'vp': 'vapor pressure'}"
      ]
     },
     "execution_count": 2,
     "metadata": {},
     "output_type": "execute_result"
    }
   ],
   "source": [
    "variables = ulmo.nasa.daymet.get_variables()\n",
    "variables"
   ]
  },
  {
   "cell_type": "code",
   "execution_count": 3,
   "metadata": {
    "collapsed": true
   },
   "outputs": [],
   "source": [
    "flooded = [40.0438, -79.5735]"
   ]
  },
  {
   "cell_type": "code",
   "execution_count": 4,
   "metadata": {},
   "outputs": [
    {
     "name": "stderr",
     "output_type": "stream",
     "text": [
      "making request for latitude, longitude: 40.0438, -79.5735\n",
      "processing data from request: https://daymet.ornl.gov/data/send/saveData?lat=40.0438&lon=-79.5735&measuredParams=prcp&lat=40.0438&lon=-79.5735&vars=prcp\n"
     ]
    }
   ],
   "source": [
    "connellsville = ulmo.nasa.daymet.get_daymet_singlepixel(*flooded, variables=['prcp'])"
   ]
  },
  {
   "cell_type": "code",
   "execution_count": 5,
   "metadata": {},
   "outputs": [
    {
     "data": {
      "text/html": [
       "<div>\n",
       "<style scoped>\n",
       "    .dataframe tbody tr th:only-of-type {\n",
       "        vertical-align: middle;\n",
       "    }\n",
       "\n",
       "    .dataframe tbody tr th {\n",
       "        vertical-align: top;\n",
       "    }\n",
       "\n",
       "    .dataframe thead th {\n",
       "        text-align: right;\n",
       "    }\n",
       "</style>\n",
       "<table border=\"1\" class=\"dataframe\">\n",
       "  <thead>\n",
       "    <tr style=\"text-align: right;\">\n",
       "      <th></th>\n",
       "      <th>year</th>\n",
       "      <th>yday</th>\n",
       "      <th>prcp</th>\n",
       "    </tr>\n",
       "  </thead>\n",
       "  <tbody>\n",
       "    <tr>\n",
       "      <th>1980-01-01</th>\n",
       "      <td>1980</td>\n",
       "      <td>1</td>\n",
       "      <td>0.0</td>\n",
       "    </tr>\n",
       "    <tr>\n",
       "      <th>1980-01-02</th>\n",
       "      <td>1980</td>\n",
       "      <td>2</td>\n",
       "      <td>0.0</td>\n",
       "    </tr>\n",
       "    <tr>\n",
       "      <th>1980-01-03</th>\n",
       "      <td>1980</td>\n",
       "      <td>3</td>\n",
       "      <td>0.0</td>\n",
       "    </tr>\n",
       "    <tr>\n",
       "      <th>1980-01-04</th>\n",
       "      <td>1980</td>\n",
       "      <td>4</td>\n",
       "      <td>0.0</td>\n",
       "    </tr>\n",
       "    <tr>\n",
       "      <th>1980-01-05</th>\n",
       "      <td>1980</td>\n",
       "      <td>5</td>\n",
       "      <td>2.0</td>\n",
       "    </tr>\n",
       "  </tbody>\n",
       "</table>\n",
       "</div>"
      ],
      "text/plain": [
       "            year  yday  prcp\n",
       "1980-01-01  1980     1   0.0\n",
       "1980-01-02  1980     2   0.0\n",
       "1980-01-03  1980     3   0.0\n",
       "1980-01-04  1980     4   0.0\n",
       "1980-01-05  1980     5   2.0"
      ]
     },
     "execution_count": 5,
     "metadata": {},
     "output_type": "execute_result"
    }
   ],
   "source": [
    "connellsville.head()"
   ]
  },
  {
   "cell_type": "code",
   "execution_count": 6,
   "metadata": {},
   "outputs": [
    {
     "data": {
      "text/plain": [
       "(13505, 3)"
      ]
     },
     "execution_count": 6,
     "metadata": {},
     "output_type": "execute_result"
    }
   ],
   "source": [
    "connellsville.shape"
   ]
  },
  {
   "cell_type": "code",
   "execution_count": 7,
   "metadata": {},
   "outputs": [
    {
     "data": {
      "text/html": [
       "<div>\n",
       "<style scoped>\n",
       "    .dataframe tbody tr th:only-of-type {\n",
       "        vertical-align: middle;\n",
       "    }\n",
       "\n",
       "    .dataframe tbody tr th {\n",
       "        vertical-align: top;\n",
       "    }\n",
       "\n",
       "    .dataframe thead th {\n",
       "        text-align: right;\n",
       "    }\n",
       "</style>\n",
       "<table border=\"1\" class=\"dataframe\">\n",
       "  <thead>\n",
       "    <tr style=\"text-align: right;\">\n",
       "      <th></th>\n",
       "      <th>year</th>\n",
       "      <th>yday</th>\n",
       "      <th>prcp</th>\n",
       "    </tr>\n",
       "  </thead>\n",
       "  <tbody>\n",
       "    <tr>\n",
       "      <th>2016-12-26</th>\n",
       "      <td>2016</td>\n",
       "      <td>361</td>\n",
       "      <td>0.0</td>\n",
       "    </tr>\n",
       "    <tr>\n",
       "      <th>2016-12-27</th>\n",
       "      <td>2016</td>\n",
       "      <td>362</td>\n",
       "      <td>6.0</td>\n",
       "    </tr>\n",
       "    <tr>\n",
       "      <th>2016-12-28</th>\n",
       "      <td>2016</td>\n",
       "      <td>363</td>\n",
       "      <td>0.0</td>\n",
       "    </tr>\n",
       "    <tr>\n",
       "      <th>2016-12-29</th>\n",
       "      <td>2016</td>\n",
       "      <td>364</td>\n",
       "      <td>3.0</td>\n",
       "    </tr>\n",
       "    <tr>\n",
       "      <th>2016-12-30</th>\n",
       "      <td>2016</td>\n",
       "      <td>365</td>\n",
       "      <td>5.0</td>\n",
       "    </tr>\n",
       "  </tbody>\n",
       "</table>\n",
       "</div>"
      ],
      "text/plain": [
       "            year  yday  prcp\n",
       "2016-12-26  2016   361   0.0\n",
       "2016-12-27  2016   362   6.0\n",
       "2016-12-28  2016   363   0.0\n",
       "2016-12-29  2016   364   3.0\n",
       "2016-12-30  2016   365   5.0"
      ]
     },
     "execution_count": 7,
     "metadata": {},
     "output_type": "execute_result"
    }
   ],
   "source": [
    "connellsville.tail()"
   ]
  },
  {
   "cell_type": "code",
   "execution_count": 9,
   "metadata": {},
   "outputs": [
    {
     "data": {
      "image/png": "[encoded data removed]",
      "text/plain": [
       "<matplotlib.figure.Figure at 0x112be1450>"
      ]
     },
     "metadata": {},
     "output_type": "display_data"
    }
   ],
   "source": [
    "connellsville['2016-08-01':'2016-09-01']['prcp'].plot();"
   ]
  },
  {
   "cell_type": "code",
   "execution_count": null,
   "metadata": {
    "collapsed": true
   },
   "outputs": [],
   "source": []
  }
 ],
 "metadata": {
  "kernelspec": {
   "display_name": "Python 2",
   "language": "python",
   "name": "python2"
  },
  "language_info": {
   "codemirror_mode": {
    "name": "ipython",
    "version": 2
   },
   "file_extension": ".py",
   "mimetype": "text/x-python",
   "name": "python",
   "nbconvert_exporter": "python",
   "pygments_lexer": "ipython2",
   "version": "2.7.10"
  }
 },
 "nbformat": 4,
 "nbformat_minor": 2
}
