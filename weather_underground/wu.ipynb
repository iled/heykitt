{
 "cells": [
  {
   "cell_type": "markdown",
   "metadata": {},
   "source": [
    "https://www.wunderground.com/weatherstation/WXDailyHistory.asp?ID=KPACONNE5&graphspan=month&month=02&day=1&year=2018&format=1"
   ]
  },
  {
   "cell_type": "code",
   "execution_count": 1,
   "metadata": {
    "collapsed": true
   },
   "outputs": [],
   "source": [
    "from calendar import Calendar\n",
    "import pandas as pd\n",
    "import time"
   ]
  },
  {
   "cell_type": "code",
   "execution_count": 2,
   "metadata": {
    "collapsed": true
   },
   "outputs": [],
   "source": [
    "station = 'KPACONNE5'\n",
    "month = 2\n",
    "year = 2018"
   ]
  },
  {
   "cell_type": "code",
   "execution_count": 3,
   "metadata": {
    "collapsed": true
   },
   "outputs": [],
   "source": [
    "def get_daily_in_month(station, month, year, only_ppt=True):\n",
    "    url = 'https://www.wunderground.com/weatherstation/WXDailyHistory.asp?ID={0}&graphspan=month&month={1}&day=1&year={2}&format=1'.format(station, month, year)\n",
    "    data = pd.read_csv(url, na_values='<br>', parse_dates=['Date'])\n",
    "    data.columns = map(lambda x: x.replace('<br>', ''), data.columns)\n",
    "    if only_ppt:\n",
    "        data = data[['Date', 'PrecipitationSumIn']]\n",
    "    return data.dropna().set_index('Date')"
   ]
  },
  {
   "cell_type": "code",
   "execution_count": 6,
   "metadata": {
    "collapsed": true
   },
   "outputs": [],
   "source": [
    "dataFeb2018 = get_daily_in_month(station, month, year)"
   ]
  },
  {
   "cell_type": "code",
   "execution_count": 7,
   "metadata": {},
   "outputs": [
    {
     "data": {
      "text/html": [
       "<div>\n",
       "<style scoped>\n",
       "    .dataframe tbody tr th:only-of-type {\n",
       "        vertical-align: middle;\n",
       "    }\n",
       "\n",
       "    .dataframe tbody tr th {\n",
       "        vertical-align: top;\n",
       "    }\n",
       "\n",
       "    .dataframe thead th {\n",
       "        text-align: right;\n",
       "    }\n",
       "</style>\n",
       "<table border=\"1\" class=\"dataframe\">\n",
       "  <thead>\n",
       "    <tr style=\"text-align: right;\">\n",
       "      <th></th>\n",
       "      <th>PrecipitationSumIn</th>\n",
       "    </tr>\n",
       "    <tr>\n",
       "      <th>Date</th>\n",
       "      <th></th>\n",
       "    </tr>\n",
       "  </thead>\n",
       "  <tbody>\n",
       "    <tr>\n",
       "      <th>2018-02-01</th>\n",
       "      <td>0.40</td>\n",
       "    </tr>\n",
       "    <tr>\n",
       "      <th>2018-02-02</th>\n",
       "      <td>0.01</td>\n",
       "    </tr>\n",
       "    <tr>\n",
       "      <th>2018-02-03</th>\n",
       "      <td>0.00</td>\n",
       "    </tr>\n",
       "    <tr>\n",
       "      <th>2018-02-04</th>\n",
       "      <td>0.54</td>\n",
       "    </tr>\n",
       "    <tr>\n",
       "      <th>2018-02-05</th>\n",
       "      <td>0.01</td>\n",
       "    </tr>\n",
       "  </tbody>\n",
       "</table>\n",
       "</div>"
      ],
      "text/plain": [
       "            PrecipitationSumIn\n",
       "Date                          \n",
       "2018-02-01                0.40\n",
       "2018-02-02                0.01\n",
       "2018-02-03                0.00\n",
       "2018-02-04                0.54\n",
       "2018-02-05                0.01"
      ]
     },
     "execution_count": 7,
     "metadata": {},
     "output_type": "execute_result"
    }
   ],
   "source": [
    "dataFeb2018.head()"
   ]
  },
  {
   "cell_type": "code",
   "execution_count": 8,
   "metadata": {
    "collapsed": true
   },
   "outputs": [],
   "source": [
    "def get_daily_in_year(station, year, only_ppt=True):\n",
    "    url = 'https://www.wunderground.com/weatherstation/WXDailyHistory.asp?ID={0}&graphspan=year&month=1&day=1&year={1}&format=1'.format(station, year)\n",
    "    data = pd.read_csv(url, na_values='<br>', parse_dates=['Date'])\n",
    "    data.columns = map(lambda x: x.replace('<br>', ''), data.columns)\n",
    "    if only_ppt:\n",
    "        data = data[['Date', 'PrecipitationSumIn']]\n",
    "    return data.dropna().set_index('Date')"
   ]
  },
  {
   "cell_type": "code",
   "execution_count": 40,
   "metadata": {
    "collapsed": true
   },
   "outputs": [],
   "source": [
    "def get_daily_in_years(station, years, only_ppt=True, limit_calls=True):\n",
    "    if limit_calls and len(years) > 500:\n",
    "        raise Exception('Let us keep to a maximum of 500 requests per day')\n",
    "        \n",
    "    t = time.time()\n",
    "    for i, year in enumerate(sorted(years, reverse=True)):\n",
    "        year_data = get_daily_in_year(station, year, only_ppt)\n",
    "        dt = time.time() - t\n",
    "        if limit_calls and not (i%10) and dt < 60:\n",
    "            time.sleep(60 - dt)\n",
    "        if dt > 60:\n",
    "            t = time.time()\n",
    "            \n",
    "        if not year_data.shape[0]:\n",
    "            # no more data - assuming that if in one year there were no data,\n",
    "            # then there were no data in the previous years as well.\n",
    "            break\n",
    "            \n",
    "        if i == 0:\n",
    "            data = year_data.copy()\n",
    "        else:\n",
    "            data = data.append(year_data)\n",
    "            \n",
    "    return data[~data.index.duplicated(keep='first')]"
   ]
  },
  {
   "cell_type": "code",
   "execution_count": 10,
   "metadata": {
    "collapsed": true
   },
   "outputs": [],
   "source": [
    "west_conn = get_daily_in_years('KPACONNE5', range(2016, 2019))"
   ]
  },
  {
   "cell_type": "code",
   "execution_count": 16,
   "metadata": {},
   "outputs": [
    {
     "data": {
      "text/plain": [
       "(454, 1)"
      ]
     },
     "execution_count": 16,
     "metadata": {},
     "output_type": "execute_result"
    }
   ],
   "source": [
    "west_conn.shape"
   ]
  },
  {
   "cell_type": "code",
   "execution_count": 17,
   "metadata": {
    "collapsed": true
   },
   "outputs": [],
   "source": [
    "west_conn.to_csv('west_connellsville_2016-2018.csv')"
   ]
  },
  {
   "cell_type": "code",
   "execution_count": 18,
   "metadata": {},
   "outputs": [
    {
     "data": {
      "text/plain": [
       "(437, 1)"
      ]
     },
     "execution_count": 18,
     "metadata": {},
     "output_type": "execute_result"
    }
   ],
   "source": [
    "south_conn = get_daily_in_years('KPACONNE6', range(2016, 2019))\n",
    "south_conn.shape"
   ]
  },
  {
   "cell_type": "code",
   "execution_count": 20,
   "metadata": {
    "collapsed": true
   },
   "outputs": [],
   "source": [
    "south_conn.to_csv('south_connellsville_2016-2018.csv')"
   ]
  },
  {
   "cell_type": "markdown",
   "metadata": {},
   "source": [
    "To get 5-minute data we need to request a day at a time\n",
    "\n",
    "https://www.wunderground.com/weatherstation/WXDailyHistory.asp?ID=KPACONNE6&day=24&year=2018&month=2&graphspan=day&format=1"
   ]
  },
  {
   "cell_type": "code",
   "execution_count": 83,
   "metadata": {
    "collapsed": true
   },
   "outputs": [],
   "source": [
    "def get_5min_daily(station, day, month, year, only_ppt=True):\n",
    "    url = ('https://www.wunderground.com/weatherstation/WXDailyHistory.asp?ID={0}&'\n",
    "           'graphspan=day&month={1}&day={2}&year={3}&format=1'.format(station, month, day, year))\n",
    "    data = pd.read_csv(url, index_col=False, na_values='<br>', parse_dates=['Time'], infer_datetime_format=True)\n",
    "    data.columns = map(lambda x: x.replace('<br>', ''), data.columns)\n",
    "    if only_ppt:\n",
    "        data = data[['Time', 'HourlyPrecipIn', 'dailyrainin']]\n",
    "    return data.dropna().set_index('Time')"
   ]
  },
  {
   "cell_type": "code",
   "execution_count": 84,
   "metadata": {
    "collapsed": true
   },
   "outputs": [],
   "source": [
    "t = get_5min_daily('KPACONNE6', 24, 2, 2018)"
   ]
  },
  {
   "cell_type": "code",
   "execution_count": 85,
   "metadata": {},
   "outputs": [
    {
     "data": {
      "text/html": [
       "<div>\n",
       "<style scoped>\n",
       "    .dataframe tbody tr th:only-of-type {\n",
       "        vertical-align: middle;\n",
       "    }\n",
       "\n",
       "    .dataframe tbody tr th {\n",
       "        vertical-align: top;\n",
       "    }\n",
       "\n",
       "    .dataframe thead th {\n",
       "        text-align: right;\n",
       "    }\n",
       "</style>\n",
       "<table border=\"1\" class=\"dataframe\">\n",
       "  <thead>\n",
       "    <tr style=\"text-align: right;\">\n",
       "      <th></th>\n",
       "      <th>HourlyPrecipIn</th>\n",
       "      <th>dailyrainin</th>\n",
       "    </tr>\n",
       "    <tr>\n",
       "      <th>Time</th>\n",
       "      <th></th>\n",
       "      <th></th>\n",
       "    </tr>\n",
       "  </thead>\n",
       "  <tbody>\n",
       "    <tr>\n",
       "      <th>2018-02-24 00:05:00</th>\n",
       "      <td>0.0</td>\n",
       "      <td>0.0</td>\n",
       "    </tr>\n",
       "    <tr>\n",
       "      <th>2018-02-24 00:10:00</th>\n",
       "      <td>0.0</td>\n",
       "      <td>0.0</td>\n",
       "    </tr>\n",
       "    <tr>\n",
       "      <th>2018-02-24 00:15:00</th>\n",
       "      <td>0.0</td>\n",
       "      <td>0.0</td>\n",
       "    </tr>\n",
       "    <tr>\n",
       "      <th>2018-02-24 00:21:00</th>\n",
       "      <td>0.0</td>\n",
       "      <td>0.0</td>\n",
       "    </tr>\n",
       "    <tr>\n",
       "      <th>2018-02-24 00:26:00</th>\n",
       "      <td>0.0</td>\n",
       "      <td>0.0</td>\n",
       "    </tr>\n",
       "  </tbody>\n",
       "</table>\n",
       "</div>"
      ],
      "text/plain": [
       "                     HourlyPrecipIn  dailyrainin\n",
       "Time                                            \n",
       "2018-02-24 00:05:00             0.0          0.0\n",
       "2018-02-24 00:10:00             0.0          0.0\n",
       "2018-02-24 00:15:00             0.0          0.0\n",
       "2018-02-24 00:21:00             0.0          0.0\n",
       "2018-02-24 00:26:00             0.0          0.0"
      ]
     },
     "execution_count": 85,
     "metadata": {},
     "output_type": "execute_result"
    }
   ],
   "source": [
    "t.head()"
   ]
  },
  {
   "cell_type": "code",
   "execution_count": null,
   "metadata": {},
   "outputs": [],
   "source": [
    "def get_5min_daily_in_year(station, year, only_ppt=True, limit_calls=True):\n",
    "    cal = Calendar()\n",
    "    t = time.time()\n",
    "    i = 0\n",
    "    for month in xrange(1, 13):\n",
    "        days = [day for day in cal.itermonthdays(2018, 2) if day]\n",
    "        for day in days:\n",
    "            daily_data = get_5min_daily(station, day, month, year, only_ppt)\n",
    "            dt = time.time() - t\n",
    "            if limit_calls and not (i%10) and dt < 60:\n",
    "                time.sleep(60 - dt)\n",
    "            if dt > 60:\n",
    "                t = time.time()\n",
    "\n",
    "            if i == 0:\n",
    "                data = daily_data.copy()\n",
    "            else:\n",
    "                data = data.append(daily_data)\n",
    "                \n",
    "            i += 1\n",
    "            \n",
    "    return data[~data.index.duplicated(keep='first')]"
   ]
  },
  {
   "cell_type": "code",
   "execution_count": 91,
   "metadata": {
    "collapsed": true
   },
   "outputs": [],
   "source": [
    "wc_5min_2018 = get_5min_daily_in_year('KPACONNE5', 2018)"
   ]
  },
  {
   "cell_type": "code",
   "execution_count": 93,
   "metadata": {},
   "outputs": [
    {
     "data": {
      "text/plain": [
       "47"
      ]
     },
     "execution_count": 93,
     "metadata": {},
     "output_type": "execute_result"
    }
   ],
   "source": [
    "wc_5min_2018.shape[0] / (24 * 60 / 5)"
   ]
  },
  {
   "cell_type": "code",
   "execution_count": 94,
   "metadata": {},
   "outputs": [
    {
     "data": {
      "text/html": [
       "<div>\n",
       "<style scoped>\n",
       "    .dataframe tbody tr th:only-of-type {\n",
       "        vertical-align: middle;\n",
       "    }\n",
       "\n",
       "    .dataframe tbody tr th {\n",
       "        vertical-align: top;\n",
       "    }\n",
       "\n",
       "    .dataframe thead th {\n",
       "        text-align: right;\n",
       "    }\n",
       "</style>\n",
       "<table border=\"1\" class=\"dataframe\">\n",
       "  <thead>\n",
       "    <tr style=\"text-align: right;\">\n",
       "      <th></th>\n",
       "      <th>HourlyPrecipIn</th>\n",
       "      <th>dailyrainin</th>\n",
       "    </tr>\n",
       "    <tr>\n",
       "      <th>Time</th>\n",
       "      <th></th>\n",
       "      <th></th>\n",
       "    </tr>\n",
       "  </thead>\n",
       "  <tbody>\n",
       "    <tr>\n",
       "      <th>2018-01-01 00:03:00</th>\n",
       "      <td>0.0</td>\n",
       "      <td>0.0</td>\n",
       "    </tr>\n",
       "    <tr>\n",
       "      <th>2018-01-01 00:08:00</th>\n",
       "      <td>0.0</td>\n",
       "      <td>0.0</td>\n",
       "    </tr>\n",
       "    <tr>\n",
       "      <th>2018-01-01 00:13:00</th>\n",
       "      <td>0.0</td>\n",
       "      <td>0.0</td>\n",
       "    </tr>\n",
       "    <tr>\n",
       "      <th>2018-01-01 00:19:00</th>\n",
       "      <td>0.0</td>\n",
       "      <td>0.0</td>\n",
       "    </tr>\n",
       "    <tr>\n",
       "      <th>2018-01-01 00:24:00</th>\n",
       "      <td>0.0</td>\n",
       "      <td>0.0</td>\n",
       "    </tr>\n",
       "  </tbody>\n",
       "</table>\n",
       "</div>"
      ],
      "text/plain": [
       "                     HourlyPrecipIn  dailyrainin\n",
       "Time                                            \n",
       "2018-01-01 00:03:00             0.0          0.0\n",
       "2018-01-01 00:08:00             0.0          0.0\n",
       "2018-01-01 00:13:00             0.0          0.0\n",
       "2018-01-01 00:19:00             0.0          0.0\n",
       "2018-01-01 00:24:00             0.0          0.0"
      ]
     },
     "execution_count": 94,
     "metadata": {},
     "output_type": "execute_result"
    }
   ],
   "source": [
    "wc_5min_2018.head()"
   ]
  },
  {
   "cell_type": "code",
   "execution_count": null,
   "metadata": {
    "collapsed": true
   },
   "outputs": [],
   "source": []
  }
 ],
 "metadata": {
  "kernelspec": {
   "display_name": "Python 2",
   "language": "python",
   "name": "python2"
  },
  "language_info": {
   "codemirror_mode": {
    "name": "ipython",
    "version": 2
   },
   "file_extension": ".py",
   "mimetype": "text/x-python",
   "name": "python",
   "nbconvert_exporter": "python",
   "pygments_lexer": "ipython2",
   "version": "2.7.10"
  }
 },
 "nbformat": 4,
 "nbformat_minor": 2
}
